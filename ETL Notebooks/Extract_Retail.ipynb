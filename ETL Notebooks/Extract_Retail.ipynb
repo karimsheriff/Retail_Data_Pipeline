{
 "cells": [
  {
   "cell_type": "code",
   "execution_count": 12,
   "id": "bbf76a47",
   "metadata": {},
   "outputs": [],
   "source": [
    "from pyspark.sql import SparkSession\n",
    "from pyspark.sql.types import *"
   ]
  },
  {
   "cell_type": "code",
   "execution_count": 4,
   "id": "b8dabe19",
   "metadata": {},
   "outputs": [],
   "source": [
    "spark = SparkSession.builder.appName(\"Retail\").getOrCreate()"
   ]
  },
  {
   "cell_type": "code",
   "execution_count": 13,
   "id": "1c93e483",
   "metadata": {},
   "outputs": [],
   "source": [
    "schema = StructType([\n",
    "    StructField(\"Row_ID\", IntegerType(), True), \n",
    "    StructField(\"Order_ID\", StringType(), True), \n",
    "    StructField(\"Order_Date\", StringType(), True),  \n",
    "    StructField(\"Ship_Date\", StringType(), True),   \n",
    "    StructField(\"Ship_Mode\", StringType(), True), \n",
    "    StructField(\"Customer_ID\", StringType(), True), \n",
    "    StructField(\"Customer_Name\", StringType(), True), \n",
    "    StructField(\"Segment\", StringType(), True), \n",
    "    StructField(\"Country\", StringType(), True), \n",
    "    StructField(\"City\", StringType(), True), \n",
    "    StructField(\"State\", StringType(), True), \n",
    "    StructField(\"Postal_Code\", FloatType(), True), \n",
    "    StructField(\"Region\", StringType(), True), \n",
    "    StructField(\"Product_ID\", StringType(), True), \n",
    "    StructField(\"Category\", StringType(), True), \n",
    "    StructField(\"Sub_Category\", StringType(), True),  \n",
    "    StructField(\"Product_Name\", StringType(), True), \n",
    "    StructField(\"Sales\", FloatType(), True)\n",
    "])"
   ]
  },
  {
   "cell_type": "code",
   "execution_count": 14,
   "id": "863df2a3",
   "metadata": {},
   "outputs": [],
   "source": [
    "retail_csv_files = ['Retail1.csv', 'Retail2.csv', 'Retail3.csv']\n",
    "def read_from_csv():\n",
    "    retail_csv = None\n",
    "    \n",
    "    for file in retail_csv_files:\n",
    "        file_df = spark.read.csv(f\"file:///home/student/{file}\", header=True, schema=schema)\n",
    "        \n",
    "        if retail_csv is None:\n",
    "            retail_csv = file_df\n",
    "        else:\n",
    "            retail_csv = retail_csv.union(file_df)\n",
    "    \n",
    "    return retail_csv"
   ]
  },
  {
   "cell_type": "code",
   "execution_count": 15,
   "id": "4e7ffe59",
   "metadata": {},
   "outputs": [],
   "source": [
    "combined_df = read_from_csv()"
   ]
  },
  {
   "cell_type": "code",
   "execution_count": null,
   "id": "35eb650f",
   "metadata": {},
   "outputs": [],
   "source": [
    "combined_df.write.mode(\"append\").saveAsTable(\"denormalized_Retail.superstore\")"
   ]
  },
  {
   "cell_type": "code",
   "execution_count": null,
   "id": "f50a6c8f",
   "metadata": {},
   "outputs": [],
   "source": []
  }
 ],
 "metadata": {
  "kernelspec": {
   "display_name": "Python 3 (ipykernel)",
   "language": "python",
   "name": "python3"
  },
  "language_info": {
   "codemirror_mode": {
    "name": "ipython",
    "version": 3
   },
   "file_extension": ".py",
   "mimetype": "text/x-python",
   "name": "python",
   "nbconvert_exporter": "python",
   "pygments_lexer": "ipython3",
   "version": "3.8.11"
  }
 },
 "nbformat": 4,
 "nbformat_minor": 5
}
