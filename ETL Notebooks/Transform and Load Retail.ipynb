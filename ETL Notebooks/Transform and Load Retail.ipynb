{
 "cells": [
  {
   "cell_type": "code",
   "execution_count": null,
   "id": "76ee6a32",
   "metadata": {},
   "outputs": [],
   "source": [
    "from pyspark.sql import SparkSession\n",
    "from pyspark.sql.types import *\n",
    "from pyspark.sql.functions import *\n",
    "from pyspark.sql.window import Window"
   ]
  },
  {
   "cell_type": "code",
   "execution_count": null,
   "id": "00861a1d",
   "metadata": {},
   "outputs": [],
   "source": [
    "spark = SparkSession.builder.appName(\"Retail\").getOrCreate()"
   ]
  },
  {
   "cell_type": "code",
   "execution_count": null,
   "id": "ca340784",
   "metadata": {},
   "outputs": [],
   "source": [
    "retail_df = spark.read.table(\"denormalized_Retail.superstore\")\n",
    "retail_df = retail_df.withColumn(\"Order_Date\", to_date(col(\"Order_Date\"), \"dd/MM/yyyy\")) \\\n",
    "            .withColumn(\"Ship_Date\", to_date(col(\"Ship_Date\"), \"dd/MM/yyyy\"))"
   ]
  },
  {
   "cell_type": "code",
   "execution_count": null,
   "id": "de6adc11",
   "metadata": {},
   "outputs": [],
   "source": [
    "def DIM_Customer(retail_df):\n",
    "    dimCustomer= retail_df\\\n",
    "        .select(\"Customer_ID\"\n",
    "                ,\"Customer_Name\"\n",
    "                ,\"Segment\"\n",
    "               )\n",
    "    return dimCustomer"
   ]
  },
  {
   "cell_type": "code",
   "execution_count": null,
   "id": "60e8fba3",
   "metadata": {},
   "outputs": [],
   "source": [
    "def DIM_Product(retail_df):\n",
    "    dimProduct= retail_df\\\n",
    "        .select(\"Product_ID\"\n",
    "                ,\"Product_Name\"\n",
    "                ,\"Category\"\n",
    "                ,\"Sub_Category\"\n",
    "               )\n",
    "    return dimProduct"
   ]
  },
  {
   "cell_type": "code",
   "execution_count": null,
   "id": "7fb0bc3f",
   "metadata": {},
   "outputs": [],
   "source": [
    "def DIM_Location(retail_df):\n",
    "    dimLocation= retail_df\\\n",
    "        .withColumn(\n",
    "        \"Location_ID\",\n",
    "        md5(concat(col(\"Country\"), col(\"City\"), col(\"State\"), col(\"Postal_Code\"),col(\"Region\")))) \\\n",
    "        .select(\"Location_ID\"\n",
    "                    ,\"Country\"\n",
    "                    ,\"City\"\n",
    "                    ,\"State\"\n",
    "                    ,\"Postal_Code\"\n",
    "                    ,\"Region\"\n",
    "                   )\n",
    "    return dimLocation"
   ]
  },
  {
   "cell_type": "code",
   "execution_count": null,
   "id": "842844ab",
   "metadata": {},
   "outputs": [],
   "source": [
    "def DIM_Date(retail_df):\n",
    "    dates = retail_df.select(col(\"Order_Date\"),col(\"Ship_Date\")) \n",
    "             \n",
    "    dimDate = dates.select(\n",
    "    date_format(\"Order_Date\", \"yyyyMMdd\").alias(\"Order_DateKey\"),\n",
    "    date_format(\"Order_Date\", \"yyyy-MM-dd\").alias(\"Order_Date\"),\n",
    "    date_format(\"Order_Date\", \"yyyy\").alias(\"Order_Year\"),\n",
    "    date_format(\"Order_Date\", \"MM\").alias(\"Order_Month\"),\n",
    "    date_format(\"Order_Date\", \"dd\").alias(\"Order_Day\"),\n",
    "    quarter(\"Order_Date\").alias(\"Order_Quarter\"),\n",
    "    date_format(\"Ship_Date\", \"yyyyMMdd\").alias(\"Ship_DateKey\"),\n",
    "    date_format(\"Ship_Date\", \"yyyy-MM-dd\").alias(\"Ship_Date\"),\n",
    "    date_format(\"Ship_Date\", \"yyyy\").alias(\"Ship_Year\"),\n",
    "    date_format(\"Ship_Date\", \"MM\").alias(\"Ship_Month\"),\n",
    "    date_format(\"Ship_Date\", \"dd\").alias(\"Ship_Day\"),\n",
    "    quarter(\"Ship_Date\").alias(\"Ship_Quarter\"))\n",
    "    return dimDate"
   ]
  },
  {
   "cell_type": "code",
   "execution_count": null,
   "id": "67653b53",
   "metadata": {},
   "outputs": [],
   "source": [
    "def DIM_Ship(retail_df):\n",
    "    window_spec = Window.orderBy(\"Ship_Mode\")\n",
    "    dimShip= retail_df.select(\"Ship_Mode\", dense_rank().over(window_spec).alias(\"Ship_Key\")).distinct()\n",
    "    return dimShip"
   ]
  },
  {
   "cell_type": "code",
   "execution_count": null,
   "id": "aa349582",
   "metadata": {},
   "outputs": [],
   "source": [
    "def Fact_retail(retail_df):\n",
    "    window_spec = Window.orderBy(\"Ship_Mode\")\n",
    "    factRetail = retail_df \\\n",
    "        .withColumn(\n",
    "            \"Location_ID\",\n",
    "            md5(concat(col(\"Country\"), col(\"City\"), col(\"State\"), col(\"Postal_Code\"), col(\"Region\")))\n",
    "        ) \\\n",
    "        .select(\n",
    "            \"Order_ID\",\n",
    "            \"Customer_ID\",\n",
    "            \"Product_ID\",\n",
    "            \"Location_ID\",\n",
    "            dense_rank().over(window_spec).alias(\"Ship_Key\"),\n",
    "            date_format(\"Order_Date\", \"yyyyMMdd\").alias(\"Order_DateKey\"),\n",
    "            date_format(\"Ship_Date\", \"yyyyMMdd\").alias(\"Ship_DateKey\"),\n",
    "            \"Sales\"\n",
    "        )\n",
    "    return factRetail"
   ]
  },
  {
   "cell_type": "code",
   "execution_count": null,
   "id": "aca1c3d4",
   "metadata": {},
   "outputs": [],
   "source": [
    "fact = Fact_retail(retail_df)\n",
    "fact.write.mode(\"append\").saveAsTable(\"retail_dwh.orders_fact\")"
   ]
  },
  {
   "cell_type": "code",
   "execution_count": null,
   "id": "76ce8045",
   "metadata": {},
   "outputs": [],
   "source": [
    "customers_dim = DIM_Customer(retail_df)\n",
    "customers_dim.write.mode(\"append\").saveAsTable(\"retail_dwh.customer_dim\")"
   ]
  },
  {
   "cell_type": "code",
   "execution_count": null,
   "id": "9eace335",
   "metadata": {},
   "outputs": [],
   "source": [
    "products_dim = DIM_Product(retail_df)\n",
    "products_dim.write.mode(\"append\").saveAsTable(\"retail_dwh.product_dim\")"
   ]
  },
  {
   "cell_type": "code",
   "execution_count": null,
   "id": "22b1b395",
   "metadata": {},
   "outputs": [],
   "source": [
    "Location_dim = DIM_Location(retail_df)\n",
    "Location_dim.write.mode(\"append\").saveAsTable(\"retail_dwh.location_dim\")"
   ]
  },
  {
   "cell_type": "code",
   "execution_count": null,
   "id": "17a1ee7d",
   "metadata": {},
   "outputs": [],
   "source": [
    "ship_dim = DIM_Ship(retail_df)\n",
    "ship_dim.write.mode(\"append\").saveAsTable(\"retail_dwh.ship_dim\")"
   ]
  },
  {
   "cell_type": "code",
   "execution_count": null,
   "id": "739ee55e",
   "metadata": {},
   "outputs": [],
   "source": [
    "date_dim = DIM_Date(retail_df)\n",
    "date_dim.write.mode(\"append\").saveAsTable(\"retail_dwh.date_dim\")"
   ]
  },
  {
   "cell_type": "code",
   "execution_count": null,
   "id": "cf2f0795",
   "metadata": {},
   "outputs": [],
   "source": []
  }
 ],
 "metadata": {
  "kernelspec": {
   "display_name": "Python 3 (ipykernel)",
   "language": "python",
   "name": "python3"
  },
  "language_info": {
   "codemirror_mode": {
    "name": "ipython",
    "version": 3
   },
   "file_extension": ".py",
   "mimetype": "text/x-python",
   "name": "python",
   "nbconvert_exporter": "python",
   "pygments_lexer": "ipython3",
   "version": "3.8.11"
  }
 },
 "nbformat": 4,
 "nbformat_minor": 5
}
